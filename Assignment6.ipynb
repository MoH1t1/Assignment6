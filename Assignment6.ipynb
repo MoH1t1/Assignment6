{
  "metadata": {
    "kernelspec": {
      "name": "python",
      "display_name": "Python (Pyodide)",
      "language": "python"
    },
    "language_info": {
      "codemirror_mode": {
        "name": "python",
        "version": 3
      },
      "file_extension": ".py",
      "mimetype": "text/x-python",
      "name": "python",
      "nbconvert_exporter": "python",
      "pygments_lexer": "ipython3",
      "version": "3.8"
    }
  },
  "nbformat_minor": 4,
  "nbformat": 4,
  "cells": [
    {
      "cell_type": "code",
      "source": "# Q1. Explain Class and Object with respect to Object-Oriented Programming. Give a suitable example.\n# OOPS (Object Oriented Programming) is a programming paradigm that revolves around the concept of \"objects\". \n# A class is a blueprint for creating objects. It defines the structure and behavior that the objects of that class will have. \n\n# An object(real world entity) is an instance of a class. We create an object by calling the class as if it were a function, passing the required arguments to the constructor.\n# Object contains related data and code, which represent info about the thing you are trying to model, and functionality or behavior that u want it to have.\n\nclass Dog:\n    def __init__(self, name, breed):\n        self.name = name\n        self.breed = breed\n\n    def bark(self):\n        print(f\"{self.name} is barking!\")\n\ndog1 = Dog(\"Buddy\", \"Golden Retriever\")\ndog2 = Dog(\"Bella\", \"Labrador\")\ndog1.bark()\ndog2.bark()\n",
      "metadata": {
        "trusted": true
      },
      "outputs": [
        {
          "name": "stdout",
          "text": "Buddy is barking!\nBella is barking!\n",
          "output_type": "stream"
        }
      ],
      "execution_count": 1
    },
    {
      "cell_type": "code",
      "source": "# Q2. Name the four pillars of OOPs.\n# Are:\n# 1. Polymorphism\n# 2. Inheritence\n# 3. Encapsulation\n# 4. Abstraction\n",
      "metadata": {
        "trusted": true
      },
      "outputs": [],
      "execution_count": null
    },
    {
      "cell_type": "code",
      "source": "# Q3. Explain why the __init__() function is used. Give a suitable example.\n\n# The __init__() function in Python is a special method used to initialize objects when they are created. It is commonly referred to as the constructor. This method is automatically called when a new object of a class is instantiated. \n\nclass Person:\n    def __init__(self, name, age):  \n        self.name = name  \n        self.age = age  \n\n    def display_info(self):\n        print(f\"Name: {self.name}, Age: {self.age}\")\n\nperson1 = Person(\"John\", 25)\nperson2 = Person(\"Alice\", 30)\n\nperson1.display_info()  \nperson2.display_info()  ",
      "metadata": {
        "trusted": true
      },
      "outputs": [
        {
          "name": "stdout",
          "text": "Name: John, Age: 25\nName: Alice, Age: 30\n",
          "output_type": "stream"
        }
      ],
      "execution_count": 2
    },
    {
      "cell_type": "code",
      "source": "# Q4. Why self is used in OOPs?\n\n# Self is used to refer to the instance of the class. It allows the class to access its own attributes and methods. It is the first parameter in instance methods \n# (i.e., methods that belong to a particular object) and helps differentiate between instance variables and local variables within methods.",
      "metadata": {
        "trusted": true
      },
      "outputs": [],
      "execution_count": null
    },
    {
      "cell_type": "code",
      "source": "# Q5. What is inheritance? Give an example for each type of inheritance.\n\n# Inheritance is a mechanism in object-oriented programming where a new class (child or subclass) can inherit properties and methods from an existing class (parent or superclass). I\n\n# Types:\n# Single Inheritance: One subclass inherits from one parent class.\nclass Animal:\n    def sound(self):\n        return \"Animal sound\"\n\nclass Dog(Animal):\n    def bark(self):\n        return \"Woof\"\n\ndog = Dog()\nprint(dog.sound())\nprint(dog.bark())\n\n# Multiple Inheritance: One subclass inherits from more than one parent class.\nclass Animal:\n    def sound(self):\n        return \"Animal sound\"\n\nclass Vehicle:\n    def move(self):\n        return \"Vehicle moving\"\n\nclass Dog(Animal, Vehicle):\n    def bark(self):\n        return \"Woof\"\n\ndog = Dog()\nprint(dog.sound())\nprint(dog.move())\nprint(dog.bark())\n\n# Multilevel Inheritance: A subclass inherits from a parent class, which is also a subclass of another class.\nclass Animal:\n    def sound(self):\n        return \"Animal sound\"\n\nclass Dog(Animal):\n    def bark(self):\n        return \"Woof\"\n\nclass Puppy(Dog):\n    def cute(self):\n        return \"So cute!\"\n\npuppy = Puppy()\nprint(puppy.sound())\nprint(puppy.bark())\nprint(puppy.cute())\n\n# Hierarchical Inheritance: Multiple subclasses inherit from a single parent class.\nclass Animal:\n    def sound(self):\n        return \"Animal sound\"\n\nclass Dog(Animal):\n    def bark(self):\n        return \"Woof\"\n\nclass Cat(Animal):\n    def meow(self):\n        return \"Meow\"\n\ndog = Dog()\ncat = Cat()\nprint(dog.sound())\nprint(dog.bark())\nprint(cat.sound())\nprint(cat.meow())\n\n# Hybrid Inheritance: A combination of two or more inheritance types.\nclass Animal:\n    def sound(self):\n        return \"Animal sound\"\n\nclass Vehicle:\n    def move(self):\n        return \"Vehicle moving\"\n\nclass Dog(Animal):\n    def bark(self):\n        return \"Woof\"\n\nclass Robot(Vehicle, Dog):\n    def action(self):\n        return \"Robot is doing action\"\n\nrobot = Robot()\nprint(robot.sound())\nprint(robot.move())\nprint(robot.bark())\nprint(robot.action())\n",
      "metadata": {
        "trusted": true
      },
      "outputs": [
        {
          "name": "stdout",
          "text": "Animal sound\nWoof\nAnimal sound\nVehicle moving\nWoof\nAnimal sound\nWoof\nSo cute!\nAnimal sound\nWoof\nAnimal sound\nMeow\nAnimal sound\nVehicle moving\nWoof\nRobot is doing action\n",
          "output_type": "stream"
        }
      ],
      "execution_count": 4
    }
  ]
}